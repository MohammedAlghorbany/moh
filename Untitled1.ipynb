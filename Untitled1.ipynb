{
  "nbformat": 4,
  "nbformat_minor": 0,
  "metadata": {
    "colab": {
      "provenance": [],
      "authorship_tag": "ABX9TyNYBWipH128XKX47RBJxv2W",
      "include_colab_link": true
    },
    "kernelspec": {
      "name": "python3",
      "display_name": "Python 3"
    },
    "language_info": {
      "name": "python"
    }
  },
  "cells": [
    {
      "cell_type": "markdown",
      "metadata": {
        "id": "view-in-github",
        "colab_type": "text"
      },
      "source": [
        "<a href=\"https://colab.research.google.com/github/MohammedAlghorbany/moh/blob/main/Untitled1.ipynb\" target=\"_parent\"><img src=\"https://colab.research.google.com/assets/colab-badge.svg\" alt=\"Open In Colab\"/></a>"
      ]
    },
    {
      "cell_type": "code",
      "execution_count": 1,
      "metadata": {
        "colab": {
          "base_uri": "https://localhost:8080/"
        },
        "id": "fpdgbKjqXrAz",
        "outputId": "3bf9961a-6c6b-4f89-a274-1aae719bf5ec"
      },
      "outputs": [
        {
          "output_type": "stream",
          "name": "stdout",
          "text": [
            "Hello, PyTorch!\n",
            "PyTorch version: 2.6.0+cu124\n",
            "Random tensor:\n"
          ]
        },
        {
          "output_type": "execute_result",
          "data": {
            "text/plain": [
              "tensor([[0.3940, 0.9637, 0.6339],\n",
              "        [0.8966, 0.6939, 0.9786],\n",
              "        [0.6288, 0.0562, 0.5731],\n",
              "        [0.1423, 0.8808, 0.4087],\n",
              "        [0.1079, 0.6339, 0.9388]])"
            ]
          },
          "metadata": {},
          "execution_count": 1
        }
      ],
      "source": [
        "# prompt: hellow world pytorch program\n",
        "\n",
        "import torch\n",
        "\n",
        "print(\"Hello, PyTorch!\")\n",
        "print(\"PyTorch version:\", torch.__version__)\n",
        "\n",
        "# Example tensor operation\n",
        "x = torch.rand(5, 3)\n",
        "print(\"Random tensor:\")\n",
        "x"
      ]
    }
  ]
}